{
 "cells": [
  {
   "cell_type": "markdown",
   "id": "4751297c",
   "metadata": {},
   "source": [
    "Домашнее задание\n",
    "\n",
    "Переведите содержимое файла purchase_log.txt в словарь purchases вида: {‘1840e0b9d4’: ‘Продукты’, ...} Для каждого user_id в файле visit_log.csv определите третий столбец с категорией покупки (если покупка была, сам файл visit_log.csv изменять не надо). Запишите в файл funnel.csv визиты из файла visit_log.csv, в которых были покупки с указанием категории. Учтите условия на данные: содержимое purchase_log.txt помещается в оперативную память компьютера содержимое visit_log.csv - нет; используйте только построчную обработку этого файла"
   ]
  },
  {
   "cell_type": "code",
   "execution_count": 8,
   "id": "4b4a4e23",
   "metadata": {},
   "outputs": [
    {
     "name": "stdout",
     "output_type": "stream",
     "text": [
      "dict_items([('user_id', 'df85c3cd61'), ('category', 'Бытовая техника')])\n"
     ]
    }
   ],
   "source": [
    "import json\n",
    "\n",
    "with open('purchase_log.txt', encoding='utf-8') as f:\n",
    "    for line in f:\n",
    "        line = line.strip()\n",
    "        \n",
    "        purchases = json.loads(line)\n",
    "print(purchases.items())"
   ]
  },
  {
   "cell_type": "code",
   "execution_count": 3,
   "id": "ee79dc8f",
   "metadata": {},
   "outputs": [
    {
     "name": "stdout",
     "output_type": "stream",
     "text": [
      "['df85c3cd61', 'other', 'Бытовая техника']\n"
     ]
    }
   ],
   "source": [
    "list_purchases = list(purchases.values())\n",
    "category = list_purchases[1]\n",
    "\n",
    "with open('visit_log.csv', 'r') as f:\n",
    "    header = f.readline()\n",
    "    \n",
    "    with open('funnel.csv', 'w') as f_filtered:\n",
    "        for line in f:\n",
    "            line = line.strip().split(',')\n",
    "            user_id = line[0]\n",
    "            source = line [1]\n",
    "            if user_id in list_purchases:\n",
    "                line.append(category)\n",
    "                print(line)\n",
    "                f_filtered.write(','.join(line) + '\\n')"
   ]
  },
  {
   "cell_type": "code",
   "execution_count": null,
   "id": "23a60474",
   "metadata": {},
   "outputs": [],
   "source": []
  }
 ],
 "metadata": {
  "kernelspec": {
   "display_name": "Python 3",
   "language": "python",
   "name": "python3"
  },
  "language_info": {
   "codemirror_mode": {
    "name": "ipython",
    "version": 3
   },
   "file_extension": ".py",
   "mimetype": "text/x-python",
   "name": "python",
   "nbconvert_exporter": "python",
   "pygments_lexer": "ipython3",
   "version": "3.8.8"
  }
 },
 "nbformat": 4,
 "nbformat_minor": 5
}
